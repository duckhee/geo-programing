{
 "cells": [
  {
   "cell_type": "code",
   "execution_count": 2,
   "metadata": {},
   "outputs": [],
   "source": [
    "%load_ext autoreload\n",
    "%autoreload 2\n",
    "%matplotlib inline"
   ]
  },
  {
   "cell_type": "code",
   "execution_count": 3,
   "metadata": {},
   "outputs": [
    {
     "name": "stdout",
     "output_type": "stream",
     "text": [
      "c:\\Users\\fain9\\Desktop\\대학원\\workspace\\SIP/TDIP_xz_k04/\n"
     ]
    }
   ],
   "source": [
    "import modelDefine\n",
    "import SIPLoadingData\n",
    "import csv\n",
    "import string\n",
    "import numpy as np\n",
    "import pandas as pd\n",
    "import matplotlib.pyplot as plt\n",
    "import os\n",
    "import glob\n"
   ]
  },
  {
   "cell_type": "code",
   "execution_count": 5,
   "metadata": {},
   "outputs": [],
   "source": [
    "filePath = os.getcwd()+'/TDIP_xz_k04/'\n",
    "outputPath = ''\n",
    "kk = 'k05'"
   ]
  },
  {
   "cell_type": "code",
   "execution_count": 6,
   "metadata": {},
   "outputs": [],
   "source": [
    "# data read\n",
    "def call_input(filename):\n",
    "    columns = ['m', 'tau', 'cap']\n",
    "    data = pd.read_csv(filename, header=None, names=columns, delimiter='\\s+')"
   ]
  },
  {
   "cell_type": "code",
   "execution_count": 10,
   "metadata": {},
   "outputs": [
    {
     "name": "stdout",
     "output_type": "stream",
     "text": [
      "['c:\\\\Users\\\\fain9\\\\Desktop\\\\대학원\\\\workspace\\\\SIP/TDIP_xz_k04\\\\xz_nt01_j04.bln', 'c:\\\\Users\\\\fain9\\\\Desktop\\\\대학원\\\\workspace\\\\SIP/TDIP_xz_k04\\\\xz_nt02_j04.bln', 'c:\\\\Users\\\\fain9\\\\Desktop\\\\대학원\\\\workspace\\\\SIP/TDIP_xz_k04\\\\xz_nt03_j04.bln', 'c:\\\\Users\\\\fain9\\\\Desktop\\\\대학원\\\\workspace\\\\SIP/TDIP_xz_k04\\\\xz_nt04_j04.bln', 'c:\\\\Users\\\\fain9\\\\Desktop\\\\대학원\\\\workspace\\\\SIP/TDIP_xz_k04\\\\xz_nt05_j04.bln', 'c:\\\\Users\\\\fain9\\\\Desktop\\\\대학원\\\\workspace\\\\SIP/TDIP_xz_k04\\\\xz_nt05_j06.bln']\n"
     ]
    }
   ],
   "source": [
    "allFiles = glob.glob(filePath + \"*.bln\")\n",
    "print(allFiles)\n",
    "\n",
    "f = np.array([0.125, 0.325, 0.625, 1, 3, 5, 8])\n"
   ]
  },
  {
   "cell_type": "code",
   "execution_count": null,
   "metadata": {},
   "outputs": [],
   "source": []
  }
 ],
 "metadata": {
  "interpreter": {
   "hash": "1c9899c3ff1e4c82aa91b08c130d2c29bbf8d22ecc745fb3287c5d86914b7f79"
  },
  "kernelspec": {
   "display_name": "Python 3.8.12 64-bit ('pg': conda)",
   "language": "python",
   "name": "python3"
  },
  "language_info": {
   "codemirror_mode": {
    "name": "ipython",
    "version": 3
   },
   "file_extension": ".py",
   "mimetype": "text/x-python",
   "name": "python",
   "nbconvert_exporter": "python",
   "pygments_lexer": "ipython3",
   "version": "3.8.12"
  },
  "orig_nbformat": 4
 },
 "nbformat": 4,
 "nbformat_minor": 2
}
