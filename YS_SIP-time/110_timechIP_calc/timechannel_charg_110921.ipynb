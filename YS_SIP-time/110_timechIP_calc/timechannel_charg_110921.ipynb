{
 "cells": [
  {
   "cell_type": "markdown",
   "metadata": {},
   "source": [
    "# Time channel IP calculator\n",
    "#### original code by BIT\n",
    "#### Last change  BIT 2021.11.02"
   ]
  },
  {
   "cell_type": "code",
   "execution_count": 1,
   "metadata": {},
   "outputs": [],
   "source": [
    "import numpy as np\n",
    "import matplotlib.pyplot as plt"
   ]
  },
  {
   "cell_type": "markdown",
   "metadata": {},
   "source": [
    "### Set timegate"
   ]
  },
  {
   "cell_type": "code",
   "execution_count": 2,
   "metadata": {},
   "outputs": [
    {
     "name": "stdout",
     "output_type": "stream",
     "text": [
      "[0.155   0.34725 0.5395  0.73175 0.924   1.11625 1.3085  1.50075 1.693\n",
      " 1.88525 2.0775  2.26975 2.462   2.65425 2.8465  3.03875 3.231   3.42325\n",
      " 3.6155  3.80775 4.     ]\n"
     ]
    }
   ],
   "source": [
    "No_time = 20      # No. IP timegate\n",
    "time_s = 0.155   # start time\n",
    "time_f = 4       # Finish time\n",
    "\n",
    "measured_time = np.linspace(time_s,time_f,No_time + 1)    # linear spacing\n",
    "# measured_time = np.logspace(np.log10(time_s),np.log10(time_f),No_time + 1)   # log spacing\n",
    "# measured_time = np.array([0.01, 0.063, 0.322, 2.0])    # manual spacing\n",
    "\n",
    "print (measured_time)"
   ]
  },
  {
   "cell_type": "markdown",
   "metadata": {},
   "source": [
    "### Cole-Cole model parameters"
   ]
  },
  {
   "cell_type": "code",
   "execution_count": 3,
   "metadata": {},
   "outputs": [],
   "source": [
    "charg = 0.1  ### make sure mV/V or V/V\n",
    "time_const = 1\n",
    "freq_exp = 0.6"
   ]
  },
  {
   "cell_type": "markdown",
   "metadata": {},
   "source": [
    "### Calculate timedomain CC model"
   ]
  },
  {
   "cell_type": "code",
   "execution_count": 4,
   "metadata": {},
   "outputs": [],
   "source": [
    "from scipy.special import gamma\n",
    "gamma_fn = gamma(No_time+1)\n",
    "\n",
    "log_sum_cc = np.zeros(No_time+1, dtype=float)\n",
    "measured_charg = np.zeros(No_time+1, dtype=float)\n",
    "time_charg = np.zeros(No_time, dtype=float)\n",
    "dt = np.zeros(No_time); time_gate = np.zeros(No_time);\n",
    "\n",
    "for itch in range(0, No_time+1):  \n",
    "    t_tau = 0; sum_cc = 0; \n",
    "    for init in range(0, 300):\n",
    "        t_tau = np.power((measured_time[itch]/time_const), init*freq_exp)\n",
    "        sum_cc += ((np.power(-1,init) * t_tau)/(gamma(1+init*freq_exp)))\n",
    "    \n",
    "    log_sum_cc[itch] = sum_cc\n",
    "\n",
    "# log_sum_cc = np.where(log_sum_cc<0, 0, log_sum_cc)     # to provide Nan       \n",
    "measured_charg = charg * log_sum_cc\n",
    "\n",
    "for itch in range(0, No_time): \n",
    "    time_charg[itch] = (measured_charg[itch] + measured_charg[itch+1])*0.5\n",
    "    dt[itch] = measured_time[itch+1] - measured_time[itch]  \n",
    "    time_gate[itch] = measured_time[itch] + dt[itch]*0.5\n",
    "\n",
    "    "
   ]
  },
  {
   "cell_type": "code",
   "execution_count": 6,
   "metadata": {},
   "outputs": [
    {
     "data": {
      "text/plain": [
       "array([0.251125, 0.443375, 0.635625, 0.827875, 1.020125, 1.212375,\n",
       "       1.404625, 1.596875, 1.789125, 1.981375, 2.173625, 2.365875,\n",
       "       2.558125, 2.750375, 2.942625, 3.134875, 3.327125, 3.519375,\n",
       "       3.711625, 3.903875])"
      ]
     },
     "execution_count": 6,
     "metadata": {},
     "output_type": "execute_result"
    }
   ],
   "source": [
    "time_gate"
   ]
  },
  {
   "cell_type": "code",
   "execution_count": 7,
   "metadata": {},
   "outputs": [
    {
     "data": {
      "text/plain": [
       "array([0.71369305, 0.5937665 , 0.51992743, 0.46724632, 0.42689361,\n",
       "       0.39460836, 0.36799085, 0.34555379, 0.32631247, 0.30958244,\n",
       "       0.29486974, 0.28180706, 0.27011446, 0.25957419, 0.25001389,\n",
       "       0.24129507, 0.23330497, 0.22595076, 0.21915518, 0.21285338,\n",
       "       0.20699044])"
      ]
     },
     "execution_count": 7,
     "metadata": {},
     "output_type": "execute_result"
    }
   ],
   "source": [
    "log_sum_cc"
   ]
  },
  {
   "cell_type": "code",
   "execution_count": 8,
   "metadata": {},
   "outputs": [
    {
     "data": {
      "text/plain": [
       "array([65.37297721, 55.68469634, 49.3586877 , 44.70699647, 41.07509837,\n",
       "       38.1299608 , 35.67723231, 33.59331313, 31.7947456 , 30.22260921,\n",
       "       28.83384016, 27.59607593, 26.48443234, 25.47940382, 24.56544766,\n",
       "       23.73000189, 22.96278673, 22.25529732, 21.60042823, 20.99219107])"
      ]
     },
     "execution_count": 8,
     "metadata": {},
     "output_type": "execute_result"
    }
   ],
   "source": [
    "time_charg*1000"
   ]
  },
  {
   "cell_type": "markdown",
   "metadata": {},
   "source": [
    "### Output"
   ]
  },
  {
   "cell_type": "code",
   "execution_count": 9,
   "metadata": {},
   "outputs": [
    {
     "data": {
      "image/png": "[encoded data removed]",
      "text/plain": [
       "<Figure size 432x288 with 1 Axes>"
      ]
     },
     "metadata": {
      "needs_background": "light"
     },
     "output_type": "display_data"
    }
   ],
   "source": [
    "plt.plot(time_gate,time_charg*1000,'-bo')\n",
    "plt.xlabel('Time [sec]',fontsize = 18)\n",
    "plt.ylabel('Chargeability [mV/V]',fontsize = 18)\n",
    "plt.xlim([0, time_f+0.1])\n",
    "plt.ylim([0, np.max(time_charg)*1000+10])\n",
    "# plt.savefig(output_path+\"/background%d.png\" %itch, dpi=1000)    \n",
    "plt.show()  "
   ]
  },
  {
   "cell_type": "code",
   "execution_count": 10,
   "metadata": {},
   "outputs": [
    {
     "data": {
      "text/plain": [
       "8.687210518999887"
      ]
     },
     "execution_count": 10,
     "metadata": {},
     "output_type": "execute_result"
    }
   ],
   "source": [
    "int_charg = (time_f - time_s)**-1 * sum(time_charg * No_time+1)\n",
    "int_charg"
   ]
  },
  {
   "cell_type": "code",
   "execution_count": 12,
   "metadata": {},
   "outputs": [],
   "source": [
    "# Output \n",
    "ouput_stack = np.column_stack([np.arange(No_time),time_gate,time_charg])\n",
    "np.savetxt(\"timechIP.txt\", ouput_stack, fmt=\"%10.4f\", delimiter=',')"
   ]
  },
  {
   "cell_type": "code",
   "execution_count": null,
   "metadata": {},
   "outputs": [],
   "source": []
  }
 ],
 "metadata": {
  "kernelspec": {
   "display_name": "Python 3 (ipykernel)",
   "language": "python",
   "name": "python3"
  },
  "language_info": {
   "codemirror_mode": {
    "name": "ipython",
    "version": 3
   },
   "file_extension": ".py",
   "mimetype": "text/x-python",
   "name": "python",
   "nbconvert_exporter": "python",
   "pygments_lexer": "ipython3",
   "version": "3.8.12"
  }
 },
 "nbformat": 4,
 "nbformat_minor": 4
}
