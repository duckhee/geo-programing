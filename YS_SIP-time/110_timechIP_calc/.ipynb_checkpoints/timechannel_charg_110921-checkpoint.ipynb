{
 "cells": [
  {
   "cell_type": "markdown",
   "metadata": {},
   "source": [
    "# Time channel IP calculator\n",
    "#### original code by BIT\n",
    "#### Last change  BIT 2021.11.02"
   ]
  },
  {
   "cell_type": "code",
   "execution_count": 4,
   "metadata": {},
   "outputs": [],
   "source": [
    "import numpy as np\n",
    "import matplotlib.pyplot as plt"
   ]
  },
  {
   "cell_type": "markdown",
   "metadata": {},
   "source": [
    "### Set timegate"
   ]
  },
  {
   "cell_type": "code",
   "execution_count": 164,
   "metadata": {},
   "outputs": [
    {
     "name": "stdout",
     "output_type": "stream",
     "text": [
      "[0.155   0.34725 0.5395  0.73175 0.924   1.11625 1.3085  1.50075 1.693\n",
      " 1.88525 2.0775  2.26975 2.462   2.65425 2.8465  3.03875 3.231   3.42325\n",
      " 3.6155  3.80775 4.     ]\n"
     ]
    }
   ],
   "source": [
    "No_time = 20      # No. IP timegate\n",
    "time_s = 0.155   # start time\n",
    "time_f = 4       # Finish time\n",
    "\n",
    "measured_time = np.linspace(time_s,time_f,No_time + 1)    # linear spacing\n",
    "# measured_time = np.logspace(np.log10(time_s),np.log10(time_f),No_time + 1)   # log spacing\n",
    "# measured_time = np.array([0.01, 0.063, 0.322, 2.0])    # manual spacing\n",
    "\n",
    "print (measured_time)"
   ]
  },
  {
   "cell_type": "markdown",
   "metadata": {},
   "source": [
    "### Cole-Cole model parameters"
   ]
  },
  {
   "cell_type": "code",
   "execution_count": 165,
   "metadata": {},
   "outputs": [],
   "source": [
    "charg = 0.1  ### make sure mV/V or V/V\n",
    "time_const = 0.1\n",
    "freq_exp = 0.6"
   ]
  },
  {
   "cell_type": "markdown",
   "metadata": {},
   "source": [
    "### Calculate timedomain CC model"
   ]
  },
  {
   "cell_type": "code",
   "execution_count": 167,
   "metadata": {},
   "outputs": [],
   "source": [
    "from scipy.special import gamma\n",
    "gamma_fn = gamma(No_time+1)\n",
    "\n",
    "log_sum_cc = np.zeros(No_time+1, dtype=float)\n",
    "measured_charg = np.zeros(No_time+1, dtype=float)\n",
    "time_charg = np.zeros(No_time, dtype=float)\n",
    "dt = np.zeros(No_time); time_gate = np.zeros(No_time);\n",
    "\n",
    "for itch in range(0, No_time+1):  \n",
    "    t_tau = 0; sum_cc = 0; \n",
    "    for init in range(0, 300):\n",
    "        t_tau = np.power((measured_time[itch]/time_const), init*freq_exp)\n",
    "        sum_cc += ((np.power(-1,init) * t_tau)/(gamma(1+init*freq_exp)))\n",
    "    \n",
    "    log_sum_cc[itch] = sum_cc\n",
    "\n",
    "# log_sum_cc = np.where(log_sum_cc<0, 0, log_sum_cc)     # to provide Nan       \n",
    "measured_charg = charg * log_sum_cc\n",
    "\n",
    "for itch in range(0, No_time): \n",
    "    time_charg[itch] = (measured_charg[itch] + measured_charg[itch+1])*0.5\n",
    "    dt[itch] = measured_time[itch+1] - measured_time[itch]  \n",
    "    time_gate[itch] = measured_time[itch] + dt[itch]*0.5\n",
    "\n",
    "    "
   ]
  },
  {
   "cell_type": "code",
   "execution_count": 168,
   "metadata": {},
   "outputs": [
    {
     "data": {
      "text/plain": [
       "array([0.251125, 0.443375, 0.635625, 0.827875, 1.020125, 1.212375,\n",
       "       1.404625, 1.596875, 1.789125, 1.981375, 2.173625, 2.365875,\n",
       "       2.558125, 2.750375, 2.942625, 3.134875, 3.327125, 3.519375,\n",
       "       3.711625, 3.903875])"
      ]
     },
     "execution_count": 168,
     "metadata": {},
     "output_type": "execute_result"
    }
   ],
   "source": [
    "time_gate"
   ]
  },
  {
   "cell_type": "code",
   "execution_count": 169,
   "metadata": {},
   "outputs": [
    {
     "data": {
      "text/plain": [
       "-2.5678073890457548e+287"
      ]
     },
     "execution_count": 169,
     "metadata": {},
     "output_type": "execute_result"
    }
   ],
   "source": [
    "(np.power(-1,init) * t_tau)"
   ]
  },
  {
   "cell_type": "code",
   "execution_count": 170,
   "metadata": {},
   "outputs": [
    {
     "data": {
      "text/plain": [
       "2.5678073890457548e+287"
      ]
     },
     "execution_count": 170,
     "metadata": {},
     "output_type": "execute_result"
    }
   ],
   "source": [
    "t_tau"
   ]
  },
  {
   "cell_type": "code",
   "execution_count": 172,
   "metadata": {},
   "outputs": [
    {
     "data": {
      "text/plain": [
       "-0.0"
      ]
     },
     "execution_count": 172,
     "metadata": {},
     "output_type": "execute_result"
    }
   ],
   "source": [
    "((np.power(-1,init) * t_tau)/(gamma(1+init*freq_exp)))"
   ]
  },
  {
   "cell_type": "code",
   "execution_count": 173,
   "metadata": {},
   "outputs": [
    {
     "data": {
      "text/plain": [
       "array([ 3.40351577e-01,  2.24159450e-01,  1.74070045e-01,  1.45178861e-01,\n",
       "        1.26047442e-01,  1.12293048e-01,  1.01846880e-01,  9.35956025e-02,\n",
       "        8.68829150e-02,  8.12949523e-02,  7.65566039e-02,  7.24757016e-02,\n",
       "        6.89000058e-02,  6.55609580e-02,  6.09977194e-02,  4.55992217e-02,\n",
       "       -4.10362579e-02, -5.00804449e-01, -2.88007485e+00, -1.46210596e+01,\n",
       "       -5.79331692e+01])"
      ]
     },
     "execution_count": 173,
     "metadata": {},
     "output_type": "execute_result"
    }
   ],
   "source": [
    "log_sum_cc"
   ]
  },
  {
   "cell_type": "code",
   "execution_count": 174,
   "metadata": {},
   "outputs": [
    {
     "data": {
      "text/plain": [
       "array([ 3.40351577e-02,  2.24159450e-02,  1.74070045e-02,  1.45178861e-02,\n",
       "        1.26047442e-02,  1.12293048e-02,  1.01846880e-02,  9.35956025e-03,\n",
       "        8.68829150e-03,  8.12949523e-03,  7.65566039e-03,  7.24757016e-03,\n",
       "        6.89000058e-03,  6.55609580e-03,  6.09977194e-03,  4.55992217e-03,\n",
       "       -4.10362579e-03, -5.00804449e-02, -2.88007485e-01, -1.46210596e+00,\n",
       "       -5.79331692e+00])"
      ]
     },
     "execution_count": 174,
     "metadata": {},
     "output_type": "execute_result"
    }
   ],
   "source": [
    "measured_charg"
   ]
  },
  {
   "cell_type": "code",
   "execution_count": 175,
   "metadata": {},
   "outputs": [
    {
     "data": {
      "text/plain": [
       "array([ 2.82255514e+01,  1.99114748e+01,  1.59624453e+01,  1.35613152e+01,\n",
       "        1.19170245e+01,  1.07069964e+01,  9.77212412e+00,  9.02392588e+00,\n",
       "        8.40889337e+00,  7.89257781e+00,  7.45161527e+00,  7.06878537e+00,\n",
       "        6.72304819e+00,  6.32793387e+00,  5.32984705e+00,  2.28148191e-01,\n",
       "       -2.70920354e+01, -1.69043965e+02, -8.75056723e+02, -3.62771144e+03])"
      ]
     },
     "execution_count": 175,
     "metadata": {},
     "output_type": "execute_result"
    }
   ],
   "source": [
    "time_charg*1000"
   ]
  },
  {
   "cell_type": "markdown",
   "metadata": {},
   "source": [
    "### Output"
   ]
  },
  {
   "cell_type": "code",
   "execution_count": 176,
   "metadata": {},
   "outputs": [
    {
     "data": {
      "image/png": "[encoded data removed]",
      "text/plain": [
       "<Figure size 432x288 with 1 Axes>"
      ]
     },
     "metadata": {
      "needs_background": "light"
     },
     "output_type": "display_data"
    }
   ],
   "source": [
    "plt.plot(time_gate,time_charg*1000,'-bo')\n",
    "plt.xlabel('Time [sec]',fontsize = 18)\n",
    "plt.ylabel('Chargeability [mV/V]',fontsize = 18)\n",
    "plt.xlim([0, time_f+0.1])\n",
    "plt.ylim([0, np.max(time_charg)*1000+10])\n",
    "# plt.savefig(output_path+\"/background%d.png\" %itch, dpi=1000)    \n",
    "plt.show()  "
   ]
  },
  {
   "cell_type": "code",
   "execution_count": 81,
   "metadata": {},
   "outputs": [
    {
     "data": {
      "text/plain": [
       "-2.916700607659907"
      ]
     },
     "execution_count": 81,
     "metadata": {},
     "output_type": "execute_result"
    }
   ],
   "source": [
    "int_charg = (time_f - time_s)**-1 * sum(time_charg * No_time+1)\n",
    "int_charg"
   ]
  },
  {
   "cell_type": "code",
   "execution_count": 73,
   "metadata": {},
   "outputs": [],
   "source": [
    "# Output \n",
    "ouput_stack = np.column_stack([np.arange(No_time),time_gate,time_charg])\n",
    "np.savetxt(\"timechIP.txt\", ouput_stack, fmt=\"%10.4f\", delimiter=',')"
   ]
  },
  {
   "cell_type": "code",
   "execution_count": null,
   "metadata": {},
   "outputs": [],
   "source": []
  }
 ],
 "metadata": {
  "kernelspec": {
   "display_name": "Python 3 (ipykernel)",
   "language": "python",
   "name": "python3"
  },
  "language_info": {
   "codemirror_mode": {
    "name": "ipython",
    "version": 3
   },
   "file_extension": ".py",
   "mimetype": "text/x-python",
   "name": "python",
   "nbconvert_exporter": "python",
   "pygments_lexer": "ipython3",
   "version": "3.7.11"
  }
 },
 "nbformat": 4,
 "nbformat_minor": 4
}
