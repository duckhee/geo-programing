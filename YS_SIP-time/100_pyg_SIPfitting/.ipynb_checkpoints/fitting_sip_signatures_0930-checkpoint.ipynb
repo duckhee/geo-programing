{
 "cells": [
  {
   "cell_type": "code",
   "execution_count": 1,
   "metadata": {},
   "outputs": [],
   "source": [
    "# Checkout www.pygimli.org for more examples\n",
    "%matplotlib inline"
   ]
  },
  {
   "cell_type": "markdown",
   "metadata": {},
   "source": [
    "\n",
    "Fitting SIP signatures\n",
    "----------------------\n",
    "\n",
    "This example highlights some of the capabilities of pyGimli to analyze spectral\n",
    "induced polarization (SIP) signatures.\n",
    "\n",
    "**Author:** *Maximilian Weigand, University of Bonn* \n",
    "(Modified(DRY) carsten-forty2\n"
   ]
  },
  {
   "cell_type": "markdown",
   "metadata": {},
   "source": [
    "Import pyGIMLi and related stuff for SIP Spectra\n",
    "\n"
   ]
  },
  {
   "cell_type": "code",
   "execution_count": 3,
   "metadata": {},
   "outputs": [],
   "source": [
    "from pygimli.physics.SIP import SIPSpectrum, modelColeColeRho\n",
    "import numpy as np\n",
    "import pygimli as pg\n",
    "\n",
    "import pandas as pd\n",
    "import matplotlib.pyplot as plt\n",
    "\n",
    "import csv\n",
    "import string"
   ]
  },
  {
   "cell_type": "markdown",
   "metadata": {},
   "source": [
    "1. Generate synthetic data with a Double-Cole-Cole Model and initialize an \n",
    "SIPSpectrum object\n",
    "TODO merge with 3\n",
    "\n"
   ]
  },
  {
   "cell_type": "markdown",
   "metadata": {},
   "source": [
    "f = np.logspace(-2, 5, 100)\n",
    "Z1 = modelColeColeRho(f, rho=1, m=0.1, tau=0.5, c=0.5)\n",
    "Z2 = modelColeColeRho(f, rho=1, m=0.25, tau=1e-6, c=1.0)\n",
    "\n",
    "rho0 = 100 # (Ohm m)\n",
    "Z = rho0 * (Z1 + Z2)\n",
    "\n",
    "sip = SIPSpectrum(f=f, amp=np.abs(Z), phi=-np.angle(Z))\n",
    "# Note the minus sign for the phases: we need to provide -phase[rad]\n",
    "\n",
    "sip.showData()\n",
    "sip.showDataKK()  # check Kramers-Kronig relations"
   ]
  },
  {
   "cell_type": "markdown",
   "metadata": {},
   "source": [
    "2. Fit a Cole-Cole model from synthetic data\n",
    "\n",
    "\n"
   ]
  },
  {
   "cell_type": "code",
   "execution_count": 4,
   "metadata": {},
   "outputs": [
    {
     "data": {
      "text/plain": [
       "'C:/Users/whyzz/python_jupyter/Cole-Cole_fitting/digitizing/'"
      ]
     },
     "execution_count": 4,
     "metadata": {},
     "output_type": "execute_result"
    }
   ],
   "source": [
    "file_path =\"C:/Users/whyzz/python_jupyter/Cole-Cole_fitting/digitizing/\"  ### input pathfile_path =\"\" \n",
    "# output_path =\"C:/Users/whyzz/python_jupyter/Cole-Cole_fitting/digitizing/output/\"  ### output pathfile_path =\"\" \n",
    "file_path"
   ]
  },
  {
   "cell_type": "code",
   "execution_count": 5,
   "metadata": {},
   "outputs": [],
   "source": [
    "file_name = \"Revil_2016_pt4_fig12_Pyrite.csv\""
   ]
  },
  {
   "cell_type": "code",
   "execution_count": 6,
   "metadata": {},
   "outputs": [],
   "source": [
    "##### definition/function for SIP fitting graph and SIP fitting result\n",
    "\n",
    "def sip_show_graph(freq, res_data, phase_data):\n",
    "#     f = np.array([0.125, 0.25, 0.625, 1, 3, 5, 8, 24, 40, 64, 192, 320])\n",
    "    res = res_data\n",
    "    phase = phase_data\n",
    "    sip = SIPSpectrum(f = freq, amp= res, phi= phase)\n",
    "#     sip.fitCCEM()\n",
    "    sip.fitColeCole()\n",
    "    return sip.showAll()\n",
    "\n",
    "def sip_show_graph_2(freq, res_data, phase_data, amp_min, amp_max, phase_min, phase_max):\n",
    "#     f = np.array([0.125, 0.25, 0.625, 1, 3, 5, 8, 24, 40, 64, 192, 320])\n",
    "    res = res_data\n",
    "    phase = phase_data\n",
    "    sip = SIPSpectrum(f = freq, amp= res, phi= phase)\n",
    "#     sip.fitCCEM()\n",
    "    sip.fitColeCole()\n",
    "    return sip.showAll_2(amp_min, amp_max, phase_min, phase_max)\n",
    "\n",
    "def sip_all_result(freq, res_data, phase_data):\n",
    "    res = res_data\n",
    "    phase = phase_data\n",
    "    sip = SIPSpectrum(f = freq, amp= res, phi= phase)\n",
    "#     sip.fitCCEM()\n",
    "    sip.fitColeCole() \n",
    "    \n",
    "    ### result form --> rho, m, tau, c --> in one list array, thus we need to extract each variable\n",
    "    \n",
    "    rho = sip.result_edit().split()[1][7:]      ### select the rho value from the _e section\n",
    "    m = sip.result_edit().split()[2][2:]\n",
    "    tau = sip.result_edit().split()[3][7:-1]\n",
    "    c = sip.result_edit().split()[4][2:]\n",
    "    \n",
    "    return rho, m, tau, c\n",
    "\n",
    "''' with saving rho and phase graph'''\n",
    "def sip_show_graph_save(freq, res_data, phase_data, savename, amp_y_min, amp_y_max, phase_y_min, phase_y_max):\n",
    "#     f = np.array([0.125, 0.25, 0.625, 1, 3, 5, 8, 24, 40, 64, 192, 320])\n",
    "    res = res_data\n",
    "    phase = phase_data\n",
    "    sip = SIPSpectrum(f = freq, amp= res, phi= phase)\n",
    "#     sip.fitCCEM()\n",
    "    sip.fitColeCole()\n",
    "    \n",
    "    return sip.showAll(savename, amp_y_min, amp_y_max, phase_y_min, phase_y_max)"
   ]
  },
  {
   "cell_type": "code",
   "execution_count": 7,
   "metadata": {},
   "outputs": [
    {
     "data": {
      "text/html": [
       "<div>\n",
       "<style scoped>\n",
       "    .dataframe tbody tr th:only-of-type {\n",
       "        vertical-align: middle;\n",
       "    }\n",
       "\n",
       "    .dataframe tbody tr th {\n",
       "        vertical-align: top;\n",
       "    }\n",
       "\n",
       "    .dataframe thead th {\n",
       "        text-align: right;\n",
       "    }\n",
       "</style>\n",
       "<table border=\"1\" class=\"dataframe\">\n",
       "  <thead>\n",
       "    <tr style=\"text-align: right;\">\n",
       "      <th></th>\n",
       "      <th>f1</th>\n",
       "      <th>a1</th>\n",
       "      <th>p1</th>\n",
       "    </tr>\n",
       "  </thead>\n",
       "  <tbody>\n",
       "    <tr>\n",
       "      <th>0</th>\n",
       "      <td>0.018047</td>\n",
       "      <td>148.630371</td>\n",
       "      <td>-0.03503</td>\n",
       "    </tr>\n",
       "    <tr>\n",
       "      <th>1</th>\n",
       "      <td>0.032389</td>\n",
       "      <td>144.506582</td>\n",
       "      <td>-0.05298</td>\n",
       "    </tr>\n",
       "    <tr>\n",
       "      <th>2</th>\n",
       "      <td>0.057148</td>\n",
       "      <td>139.664805</td>\n",
       "      <td>-0.07558</td>\n",
       "    </tr>\n",
       "    <tr>\n",
       "      <th>3</th>\n",
       "      <td>0.100856</td>\n",
       "      <td>135.574837</td>\n",
       "      <td>-0.11013</td>\n",
       "    </tr>\n",
       "    <tr>\n",
       "      <th>4</th>\n",
       "      <td>0.183950</td>\n",
       "      <td>127.292863</td>\n",
       "      <td>-0.15796</td>\n",
       "    </tr>\n",
       "    <tr>\n",
       "      <th>5</th>\n",
       "      <td>0.319007</td>\n",
       "      <td>117.263538</td>\n",
       "      <td>-0.21375</td>\n",
       "    </tr>\n",
       "    <tr>\n",
       "      <th>6</th>\n",
       "      <td>0.552841</td>\n",
       "      <td>104.344923</td>\n",
       "      <td>-0.26690</td>\n",
       "    </tr>\n",
       "    <tr>\n",
       "      <th>7</th>\n",
       "      <td>1.024000</td>\n",
       "      <td>91.313360</td>\n",
       "      <td>-0.30078</td>\n",
       "    </tr>\n",
       "    <tr>\n",
       "      <th>8</th>\n",
       "      <td>1.803433</td>\n",
       "      <td>81.016924</td>\n",
       "      <td>-0.29417</td>\n",
       "    </tr>\n",
       "    <tr>\n",
       "      <th>9</th>\n",
       "      <td>3.178337</td>\n",
       "      <td>74.499549</td>\n",
       "      <td>-0.24970</td>\n",
       "    </tr>\n",
       "    <tr>\n",
       "      <th>10</th>\n",
       "      <td>5.579561</td>\n",
       "      <td>70.846115</td>\n",
       "      <td>-0.18930</td>\n",
       "    </tr>\n",
       "    <tr>\n",
       "      <th>11</th>\n",
       "      <td>10.055415</td>\n",
       "      <td>68.854875</td>\n",
       "      <td>-0.13421</td>\n",
       "    </tr>\n",
       "    <tr>\n",
       "      <th>12</th>\n",
       "      <td>17.750067</td>\n",
       "      <td>67.589032</td>\n",
       "      <td>-0.09173</td>\n",
       "    </tr>\n",
       "    <tr>\n",
       "      <th>13</th>\n",
       "      <td>31.746803</td>\n",
       "      <td>66.679558</td>\n",
       "      <td>-0.06187</td>\n",
       "    </tr>\n",
       "    <tr>\n",
       "      <th>14</th>\n",
       "      <td>55.411512</td>\n",
       "      <td>66.009215</td>\n",
       "      <td>-0.04197</td>\n",
       "    </tr>\n",
       "    <tr>\n",
       "      <th>15</th>\n",
       "      <td>100.646807</td>\n",
       "      <td>65.596568</td>\n",
       "      <td>-0.02872</td>\n",
       "    </tr>\n",
       "    <tr>\n",
       "      <th>16</th>\n",
       "      <td>178.032791</td>\n",
       "      <td>65.270743</td>\n",
       "      <td>-0.02011</td>\n",
       "    </tr>\n",
       "    <tr>\n",
       "      <th>17</th>\n",
       "      <td>310.742031</td>\n",
       "      <td>65.108829</td>\n",
       "      <td>-0.01482</td>\n",
       "    </tr>\n",
       "    <tr>\n",
       "      <th>18</th>\n",
       "      <td>557.185749</td>\n",
       "      <td>65.027962</td>\n",
       "      <td>-0.01152</td>\n",
       "    </tr>\n",
       "    <tr>\n",
       "      <th>19</th>\n",
       "      <td>998.619403</td>\n",
       "      <td>64.867249</td>\n",
       "      <td>-0.00955</td>\n",
       "    </tr>\n",
       "    <tr>\n",
       "      <th>20</th>\n",
       "      <td>1766.851298</td>\n",
       "      <td>64.707329</td>\n",
       "      <td>-0.00891</td>\n",
       "    </tr>\n",
       "    <tr>\n",
       "      <th>21</th>\n",
       "      <td>3125.359644</td>\n",
       "      <td>64.627873</td>\n",
       "      <td>-0.00827</td>\n",
       "    </tr>\n",
       "    <tr>\n",
       "      <th>22</th>\n",
       "      <td>5602.733948</td>\n",
       "      <td>64.548195</td>\n",
       "      <td>-0.01028</td>\n",
       "    </tr>\n",
       "    <tr>\n",
       "      <th>23</th>\n",
       "      <td>9912.883449</td>\n",
       "      <td>64.548195</td>\n",
       "      <td>-0.01428</td>\n",
       "    </tr>\n",
       "  </tbody>\n",
       "</table>\n",
       "</div>"
      ],
      "text/plain": [
       "             f1          a1       p1\n",
       "0      0.018047  148.630371 -0.03503\n",
       "1      0.032389  144.506582 -0.05298\n",
       "2      0.057148  139.664805 -0.07558\n",
       "3      0.100856  135.574837 -0.11013\n",
       "4      0.183950  127.292863 -0.15796\n",
       "5      0.319007  117.263538 -0.21375\n",
       "6      0.552841  104.344923 -0.26690\n",
       "7      1.024000   91.313360 -0.30078\n",
       "8      1.803433   81.016924 -0.29417\n",
       "9      3.178337   74.499549 -0.24970\n",
       "10     5.579561   70.846115 -0.18930\n",
       "11    10.055415   68.854875 -0.13421\n",
       "12    17.750067   67.589032 -0.09173\n",
       "13    31.746803   66.679558 -0.06187\n",
       "14    55.411512   66.009215 -0.04197\n",
       "15   100.646807   65.596568 -0.02872\n",
       "16   178.032791   65.270743 -0.02011\n",
       "17   310.742031   65.108829 -0.01482\n",
       "18   557.185749   65.027962 -0.01152\n",
       "19   998.619403   64.867249 -0.00955\n",
       "20  1766.851298   64.707329 -0.00891\n",
       "21  3125.359644   64.627873 -0.00827\n",
       "22  5602.733948   64.548195 -0.01028\n",
       "23  9912.883449   64.548195 -0.01428"
      ]
     },
     "execution_count": 7,
     "metadata": {},
     "output_type": "execute_result"
    }
   ],
   "source": [
    "col_name = ['f1' , 'a1' , 'p1']\n",
    "df1 = pd.read_csv(file_path + file_name , names = col_name, header=1, comment='#')\n",
    "df1"
   ]
  },
  {
   "cell_type": "code",
   "execution_count": 8,
   "metadata": {},
   "outputs": [
    {
     "data": {
      "image/png": "[encoded data removed]",
      "text/plain": [
       "<Figure size 864x864 with 2 Axes>"
      ]
     },
     "metadata": {
      "needs_background": "light"
     },
     "output_type": "display_data"
    },
    {
     "data": {
      "text/plain": [
       "(<Figure size 864x864 with 2 Axes>,\n",
       " array([<AxesSubplot:xlabel='f (Hz)', ylabel='$\\\\rho$ ($\\\\Omega$m)'>,\n",
       "        <AxesSubplot:title={'left':'CC: $\\\\rho$=148.6 m=0.582 $\\\\tau$=2.4e-01s c=0.78'}, xlabel='f (Hz)', ylabel='-phi (mrad)'>],\n",
       "       dtype=object))"
      ]
     },
     "execution_count": 8,
     "metadata": {},
     "output_type": "execute_result"
    }
   ],
   "source": [
    "sip_show_graph(freq= df1.f1, res_data= df1.a1, phase_data= -df1.p1)"
   ]
  },
  {
   "cell_type": "markdown",
   "metadata": {},
   "source": [
    "Z = modelColeColeRho(f, rho=100, m=0.1, tau=0.01, c=0.5)\n",
    "# TODO data need some noise\n",
    "\n",
    "sip = SIPSpectrum(f=f, amp=np.abs(Z), phi=-np.angle(Z))\n",
    "sip.fitColeCole(useCond=False, verbose=False)  # works for both rho and sigma models\n",
    "sip.showAll()"
   ]
  },
  {
   "cell_type": "markdown",
   "metadata": {},
   "source": [
    "3. Fit a double Cole-Cole model\n",
    "\n",
    "\n"
   ]
  },
  {
   "cell_type": "markdown",
   "metadata": {},
   "source": [
    "f = np.logspace(-2, 5, 100)\n",
    "Z1 = modelColeColeRho(f, rho=1, m=0.1, tau=0.5, c=0.5)\n",
    "Z2 = modelColeColeRho(f, rho=1, m=0.25, tau=1e-6, c=1.0)\n",
    "\n",
    "rho0 = 100 #(Ohm m)\n",
    "Z = rho0 * (Z1 + Z2)\n",
    "\n",
    "# TODO data need some noise\n",
    "sip = SIPSpectrum(f=f, amp=np.abs(Z), phi=-np.angle(Z))\n",
    "sip.fitCCEM(verbose=False) # fit an SIP Cole-Cole term and an EM term (also Cole-Cole)\n",
    "sip.showAll()"
   ]
  },
  {
   "cell_type": "code",
   "execution_count": 9,
   "metadata": {},
   "outputs": [],
   "source": [
    "import inspect"
   ]
  },
  {
   "cell_type": "code",
   "execution_count": 10,
   "metadata": {},
   "outputs": [
    {
     "name": "stdout",
     "output_type": "stream",
     "text": [
      "    def fitColeCole(self, useCond=False, **kwargs):\n",
      "        \"\"\"Fit a Cole-Cole model to the phase data\n",
      "\n",
      "        Parameters\n",
      "        ----------\n",
      "        useCond : bool\n",
      "            use conductivity form of Cole-Cole model instead of resistivity\n",
      "        error : float [0.01]\n",
      "            absolute phase error\n",
      "        lam : float [1000]\n",
      "            initial regularization parameter\n",
      "        mpar : tuple/list (0, 0, 1)\n",
      "            inversion parameters for chargeability: start, lower, upper bound\n",
      "        taupar : tuple/list (1e-2, 1e-5, 100)\n",
      "            inversion parameters for time constant: start, lower, upper bound\n",
      "        cpar : tuple/list (0.25, 0, 1)\n",
      "            inversion parameters for Cole exponent: start, lower, upper bound\n",
      "        \"\"\"\n",
      "        if useCond:  # use conductivity formulation instead of resistivity\n",
      "            self.mCC, self.ampCC, self.phiCC = fitCCCC(self.f, self.amp,\n",
      "                                                       self.phi, **kwargs)\n",
      "            self.mCC[0] = 1. / self.mCC[0]\n",
      "        else:\n",
      "            self.mCC, self.ampCC, self.phiCC = fitCCC(self.f, self.amp,\n",
      "                                                      self.phi, **kwargs)\n",
      "\n"
     ]
    }
   ],
   "source": [
    "print(inspect.getsource(SIPSpectrum.fitColeCole))"
   ]
  },
  {
   "cell_type": "code",
   "execution_count": 11,
   "metadata": {},
   "outputs": [
    {
     "ename": "AttributeError",
     "evalue": "module 'pygimli' has no attribute 'tools'",
     "output_type": "error",
     "traceback": [
      "\u001b[1;31m---------------------------------------------------------------------------\u001b[0m",
      "\u001b[1;31mAttributeError\u001b[0m                            Traceback (most recent call last)",
      "\u001b[1;32m<ipython-input-11-13571757cb06>\u001b[0m in \u001b[0;36m<module>\u001b[1;34m\u001b[0m\n\u001b[1;32m----> 1\u001b[1;33m \u001b[0mprint\u001b[0m\u001b[1;33m(\u001b[0m\u001b[0minspect\u001b[0m\u001b[1;33m.\u001b[0m\u001b[0mgetsource\u001b[0m\u001b[1;33m(\u001b[0m\u001b[0mpg\u001b[0m\u001b[1;33m.\u001b[0m\u001b[0mtools\u001b[0m\u001b[1;33m.\u001b[0m\u001b[0mfitCCC\u001b[0m\u001b[1;33m)\u001b[0m\u001b[1;33m)\u001b[0m\u001b[1;33m\u001b[0m\u001b[1;33m\u001b[0m\u001b[0m\n\u001b[0m",
      "\u001b[1;31mAttributeError\u001b[0m: module 'pygimli' has no attribute 'tools'"
     ]
    }
   ],
   "source": [
    "print(inspect.getsource(pg.tools.fitCCC))"
   ]
  },
  {
   "cell_type": "code",
   "execution_count": 12,
   "metadata": {},
   "outputs": [
    {
     "ename": "NameError",
     "evalue": "name 'tools' is not defined",
     "output_type": "error",
     "traceback": [
      "\u001b[1;31m---------------------------------------------------------------------------\u001b[0m",
      "\u001b[1;31mNameError\u001b[0m                                 Traceback (most recent call last)",
      "\u001b[1;32m<ipython-input-12-7e2d39256540>\u001b[0m in \u001b[0;36m<module>\u001b[1;34m\u001b[0m\n\u001b[1;32m----> 1\u001b[1;33m \u001b[0mhelp\u001b[0m\u001b[1;33m(\u001b[0m\u001b[0mtools\u001b[0m\u001b[1;33m.\u001b[0m\u001b[0mfitCCC\u001b[0m\u001b[1;33m)\u001b[0m\u001b[1;33m\u001b[0m\u001b[1;33m\u001b[0m\u001b[0m\n\u001b[0m",
      "\u001b[1;31mNameError\u001b[0m: name 'tools' is not defined"
     ]
    }
   ],
   "source": [
    "help(tools.fitCCC)"
   ]
  },
  {
   "cell_type": "markdown",
   "metadata": {},
   "source": [
    "3. Fit a Cole-Cole model to \n",
    "\n"
   ]
  },
  {
   "cell_type": "markdown",
   "metadata": {},
   "source": [
    "f = np.logspace(-2, 5, 100)\n",
    "Z = modelColeColeRho(f, rho=100, m=0.1, tau=0.01, c=0.5)\n",
    "sip = SIPSpectrum(f=f, amp=np.abs(Z), phi=-np.angle(Z))\n",
    "\n",
    "sip.showAll()\n",
    "sip.fitDebyeModel(new=True, showFit=True)\n",
    "pg.wait()"
   ]
  },
  {
   "cell_type": "markdown",
   "metadata": {},
   "source": [
    "<div class=\"alert alert-info\"><h4>Note</h4><p>This tutorial was kindly contributed by Maximilian Weigand (University of\n",
    "  Bonn). If you also want to contribute an interesting example, check out\n",
    "  our contribution guidelines https://www.pygimli.org/contrib.html.</p></div>\n",
    "\n"
   ]
  }
 ],
 "metadata": {
  "kernelspec": {
   "display_name": "Python 3",
   "language": "python",
   "name": "python3"
  },
  "language_info": {
   "codemirror_mode": {
    "name": "ipython",
    "version": 3
   },
   "file_extension": ".py",
   "mimetype": "text/x-python",
   "name": "python",
   "nbconvert_exporter": "python",
   "pygments_lexer": "ipython3",
   "version": "3.7.9"
  }
 },
 "nbformat": 4,
 "nbformat_minor": 4
}
